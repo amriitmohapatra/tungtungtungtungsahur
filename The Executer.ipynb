{
 "cells": [
  {
   "cell_type": "code",
   "execution_count": 13,
   "id": "2f0e9838-496a-4f68-bafe-bcaf67e6718b",
   "metadata": {},
   "outputs": [
    {
     "data": {
      "text/plain": [
       "'C:\\\\Users\\\\amrit.LAPTOP-82H6QHOJ\\\\Documents\\\\GitHub\\\\tungtungtungtungsahur'"
      ]
     },
     "execution_count": 13,
     "metadata": {},
     "output_type": "execute_result"
    }
   ],
   "source": [
    "import os\n",
    "os.getcwd()"
   ]
  },
  {
   "cell_type": "code",
   "execution_count": 14,
   "id": "5bbfa0ec-9164-40c7-93e3-7b12865b1474",
   "metadata": {},
   "outputs": [],
   "source": [
    "# !pip install gtts"
   ]
  },
  {
   "cell_type": "code",
   "execution_count": 15,
   "id": "49ea0dba-005e-4971-b070-07486bc668d8",
   "metadata": {},
   "outputs": [],
   "source": [
    "# !pip install pydub"
   ]
  },
  {
   "cell_type": "code",
   "execution_count": 16,
   "id": "bfcc114b-cb73-4328-a58c-4ac5bdea8542",
   "metadata": {},
   "outputs": [
    {
     "name": "stdout",
     "output_type": "stream",
     "text": [
      "Welcome to the Tung Tung Tung Sahur Alarm Generator!\n",
      "Create a funny Sahur wake-up alarm with Free Fire vibes and a catchy jingle.\n"
     ]
    },
    {
     "name": "stdin",
     "output_type": "stream",
     "text": [
      "Choose a Free Fire character (Kelly, Maxim, Moco, Andrew, Chrono):  Moco\n",
      "Enter a motivational Sahur message (or press Enter for a random one):  Heeeeeee How Scary!!\n",
      "Choose beat style (fast/slow):  Slow\n"
     ]
    },
    {
     "name": "stderr",
     "output_type": "stream",
     "text": [
      "C:\\Users\\amrit.LAPTOP-82H6QHOJ\\AppData\\Roaming\\Python\\Python311\\site-packages\\pydub\\utils.py:198: RuntimeWarning: Couldn't find ffprobe or avprobe - defaulting to ffprobe, but may not work\n",
      "  warn(\"Couldn't find ffprobe or avprobe - defaulting to ffprobe, but may not work\", RuntimeWarning)\n"
     ]
    },
    {
     "ename": "FileNotFoundError",
     "evalue": "[WinError 2] The system cannot find the file specified",
     "output_type": "error",
     "traceback": [
      "\u001b[1;31m---------------------------------------------------------------------------\u001b[0m",
      "\u001b[1;31mFileNotFoundError\u001b[0m                         Traceback (most recent call last)",
      "Cell \u001b[1;32mIn[16], line 96\u001b[0m\n\u001b[0;32m     93\u001b[0m     \u001b[38;5;28mprint\u001b[39m(\u001b[38;5;124m\"\u001b[39m\u001b[38;5;124mUpload this to GitHub and share the Sahur jingle with the world!\u001b[39m\u001b[38;5;124m\"\u001b[39m)\n\u001b[0;32m     95\u001b[0m \u001b[38;5;28;01mif\u001b[39;00m \u001b[38;5;18m__name__\u001b[39m \u001b[38;5;241m==\u001b[39m \u001b[38;5;124m\"\u001b[39m\u001b[38;5;124m__main__\u001b[39m\u001b[38;5;124m\"\u001b[39m:\n\u001b[1;32m---> 96\u001b[0m     main()\n",
      "Cell \u001b[1;32mIn[16], line 92\u001b[0m, in \u001b[0;36mmain\u001b[1;34m()\u001b[0m\n\u001b[0;32m     90\u001b[0m \u001b[38;5;66;03m# Create the alarm\u001b[39;00m\n\u001b[0;32m     91\u001b[0m os\u001b[38;5;241m.\u001b[39mmakedirs(\u001b[38;5;124m\"\u001b[39m\u001b[38;5;124msounds\u001b[39m\u001b[38;5;124m\"\u001b[39m, exist_ok\u001b[38;5;241m=\u001b[39m\u001b[38;5;28;01mTrue\u001b[39;00m)\n\u001b[1;32m---> 92\u001b[0m create_sahur_alarm(character, message, beat_style)\n\u001b[0;32m     93\u001b[0m \u001b[38;5;28mprint\u001b[39m(\u001b[38;5;124m\"\u001b[39m\u001b[38;5;124mUpload this to GitHub and share the Sahur jingle with the world!\u001b[39m\u001b[38;5;124m\"\u001b[39m)\n",
      "Cell \u001b[1;32mIn[16], line 41\u001b[0m, in \u001b[0;36mcreate_sahur_alarm\u001b[1;34m(character, message, beat_style)\u001b[0m\n\u001b[0;32m     39\u001b[0m tts \u001b[38;5;241m=\u001b[39m gTTS(text\u001b[38;5;241m=\u001b[39mscript, lang\u001b[38;5;241m=\u001b[39m\u001b[38;5;124m'\u001b[39m\u001b[38;5;124men\u001b[39m\u001b[38;5;124m'\u001b[39m)\n\u001b[0;32m     40\u001b[0m tts\u001b[38;5;241m.\u001b[39msave(\u001b[38;5;124m\"\u001b[39m\u001b[38;5;124mtemp_tts.mp3\u001b[39m\u001b[38;5;124m\"\u001b[39m)\n\u001b[1;32m---> 41\u001b[0m voice_audio \u001b[38;5;241m=\u001b[39m AudioSegment\u001b[38;5;241m.\u001b[39mfrom_mp3(\u001b[38;5;124m\"\u001b[39m\u001b[38;5;124mtemp_tts.mp3\u001b[39m\u001b[38;5;124m\"\u001b[39m)\n\u001b[0;32m     43\u001b[0m \u001b[38;5;66;03m# Load or generate drum beat\u001b[39;00m\n\u001b[0;32m     44\u001b[0m drum_path \u001b[38;5;241m=\u001b[39m \u001b[38;5;124m\"\u001b[39m\u001b[38;5;124msounds/drum_beat.wav\u001b[39m\u001b[38;5;124m\"\u001b[39m\n",
      "File \u001b[1;32m~\\AppData\\Roaming\\Python\\Python311\\site-packages\\pydub\\audio_segment.py:796\u001b[0m, in \u001b[0;36mAudioSegment.from_mp3\u001b[1;34m(cls, file, parameters)\u001b[0m\n\u001b[0;32m    794\u001b[0m \u001b[38;5;129m@classmethod\u001b[39m\n\u001b[0;32m    795\u001b[0m \u001b[38;5;28;01mdef\u001b[39;00m \u001b[38;5;21mfrom_mp3\u001b[39m(\u001b[38;5;28mcls\u001b[39m, file, parameters\u001b[38;5;241m=\u001b[39m\u001b[38;5;28;01mNone\u001b[39;00m):\n\u001b[1;32m--> 796\u001b[0m     \u001b[38;5;28;01mreturn\u001b[39;00m \u001b[38;5;28mcls\u001b[39m\u001b[38;5;241m.\u001b[39mfrom_file(file, \u001b[38;5;124m'\u001b[39m\u001b[38;5;124mmp3\u001b[39m\u001b[38;5;124m'\u001b[39m, parameters\u001b[38;5;241m=\u001b[39mparameters)\n",
      "File \u001b[1;32m~\\AppData\\Roaming\\Python\\Python311\\site-packages\\pydub\\audio_segment.py:728\u001b[0m, in \u001b[0;36mAudioSegment.from_file\u001b[1;34m(cls, file, format, codec, parameters, start_second, duration, **kwargs)\u001b[0m\n\u001b[0;32m    726\u001b[0m     info \u001b[38;5;241m=\u001b[39m \u001b[38;5;28;01mNone\u001b[39;00m\n\u001b[0;32m    727\u001b[0m \u001b[38;5;28;01melse\u001b[39;00m:\n\u001b[1;32m--> 728\u001b[0m     info \u001b[38;5;241m=\u001b[39m mediainfo_json(orig_file, read_ahead_limit\u001b[38;5;241m=\u001b[39mread_ahead_limit)\n\u001b[0;32m    729\u001b[0m \u001b[38;5;28;01mif\u001b[39;00m info:\n\u001b[0;32m    730\u001b[0m     audio_streams \u001b[38;5;241m=\u001b[39m [x \u001b[38;5;28;01mfor\u001b[39;00m x \u001b[38;5;129;01min\u001b[39;00m info[\u001b[38;5;124m'\u001b[39m\u001b[38;5;124mstreams\u001b[39m\u001b[38;5;124m'\u001b[39m]\n\u001b[0;32m    731\u001b[0m                      \u001b[38;5;28;01mif\u001b[39;00m x[\u001b[38;5;124m'\u001b[39m\u001b[38;5;124mcodec_type\u001b[39m\u001b[38;5;124m'\u001b[39m] \u001b[38;5;241m==\u001b[39m \u001b[38;5;124m'\u001b[39m\u001b[38;5;124maudio\u001b[39m\u001b[38;5;124m'\u001b[39m]\n",
      "File \u001b[1;32m~\\AppData\\Roaming\\Python\\Python311\\site-packages\\pydub\\utils.py:274\u001b[0m, in \u001b[0;36mmediainfo_json\u001b[1;34m(filepath, read_ahead_limit)\u001b[0m\n\u001b[0;32m    271\u001b[0m         file\u001b[38;5;241m.\u001b[39mclose()\n\u001b[0;32m    273\u001b[0m command \u001b[38;5;241m=\u001b[39m [prober, \u001b[38;5;124m'\u001b[39m\u001b[38;5;124m-of\u001b[39m\u001b[38;5;124m'\u001b[39m, \u001b[38;5;124m'\u001b[39m\u001b[38;5;124mjson\u001b[39m\u001b[38;5;124m'\u001b[39m] \u001b[38;5;241m+\u001b[39m command_args\n\u001b[1;32m--> 274\u001b[0m res \u001b[38;5;241m=\u001b[39m Popen(command, stdin\u001b[38;5;241m=\u001b[39mstdin_parameter, stdout\u001b[38;5;241m=\u001b[39mPIPE, stderr\u001b[38;5;241m=\u001b[39mPIPE)\n\u001b[0;32m    275\u001b[0m output, stderr \u001b[38;5;241m=\u001b[39m res\u001b[38;5;241m.\u001b[39mcommunicate(\u001b[38;5;28minput\u001b[39m\u001b[38;5;241m=\u001b[39mstdin_data)\n\u001b[0;32m    276\u001b[0m output \u001b[38;5;241m=\u001b[39m output\u001b[38;5;241m.\u001b[39mdecode(\u001b[38;5;124m\"\u001b[39m\u001b[38;5;124mutf-8\u001b[39m\u001b[38;5;124m\"\u001b[39m, \u001b[38;5;124m'\u001b[39m\u001b[38;5;124mignore\u001b[39m\u001b[38;5;124m'\u001b[39m)\n",
      "File \u001b[1;32mC:\\ProgramData\\anaconda3\\Lib\\subprocess.py:1026\u001b[0m, in \u001b[0;36mPopen.__init__\u001b[1;34m(self, args, bufsize, executable, stdin, stdout, stderr, preexec_fn, close_fds, shell, cwd, env, universal_newlines, startupinfo, creationflags, restore_signals, start_new_session, pass_fds, user, group, extra_groups, encoding, errors, text, umask, pipesize, process_group)\u001b[0m\n\u001b[0;32m   1022\u001b[0m         \u001b[38;5;28;01mif\u001b[39;00m \u001b[38;5;28mself\u001b[39m\u001b[38;5;241m.\u001b[39mtext_mode:\n\u001b[0;32m   1023\u001b[0m             \u001b[38;5;28mself\u001b[39m\u001b[38;5;241m.\u001b[39mstderr \u001b[38;5;241m=\u001b[39m io\u001b[38;5;241m.\u001b[39mTextIOWrapper(\u001b[38;5;28mself\u001b[39m\u001b[38;5;241m.\u001b[39mstderr,\n\u001b[0;32m   1024\u001b[0m                     encoding\u001b[38;5;241m=\u001b[39mencoding, errors\u001b[38;5;241m=\u001b[39merrors)\n\u001b[1;32m-> 1026\u001b[0m     \u001b[38;5;28mself\u001b[39m\u001b[38;5;241m.\u001b[39m_execute_child(args, executable, preexec_fn, close_fds,\n\u001b[0;32m   1027\u001b[0m                         pass_fds, cwd, env,\n\u001b[0;32m   1028\u001b[0m                         startupinfo, creationflags, shell,\n\u001b[0;32m   1029\u001b[0m                         p2cread, p2cwrite,\n\u001b[0;32m   1030\u001b[0m                         c2pread, c2pwrite,\n\u001b[0;32m   1031\u001b[0m                         errread, errwrite,\n\u001b[0;32m   1032\u001b[0m                         restore_signals,\n\u001b[0;32m   1033\u001b[0m                         gid, gids, uid, umask,\n\u001b[0;32m   1034\u001b[0m                         start_new_session, process_group)\n\u001b[0;32m   1035\u001b[0m \u001b[38;5;28;01mexcept\u001b[39;00m:\n\u001b[0;32m   1036\u001b[0m     \u001b[38;5;66;03m# Cleanup if the child failed starting.\u001b[39;00m\n\u001b[0;32m   1037\u001b[0m     \u001b[38;5;28;01mfor\u001b[39;00m f \u001b[38;5;129;01min\u001b[39;00m \u001b[38;5;28mfilter\u001b[39m(\u001b[38;5;28;01mNone\u001b[39;00m, (\u001b[38;5;28mself\u001b[39m\u001b[38;5;241m.\u001b[39mstdin, \u001b[38;5;28mself\u001b[39m\u001b[38;5;241m.\u001b[39mstdout, \u001b[38;5;28mself\u001b[39m\u001b[38;5;241m.\u001b[39mstderr)):\n",
      "File \u001b[1;32mC:\\ProgramData\\anaconda3\\Lib\\subprocess.py:1538\u001b[0m, in \u001b[0;36mPopen._execute_child\u001b[1;34m(self, args, executable, preexec_fn, close_fds, pass_fds, cwd, env, startupinfo, creationflags, shell, p2cread, p2cwrite, c2pread, c2pwrite, errread, errwrite, unused_restore_signals, unused_gid, unused_gids, unused_uid, unused_umask, unused_start_new_session, unused_process_group)\u001b[0m\n\u001b[0;32m   1536\u001b[0m \u001b[38;5;66;03m# Start the process\u001b[39;00m\n\u001b[0;32m   1537\u001b[0m \u001b[38;5;28;01mtry\u001b[39;00m:\n\u001b[1;32m-> 1538\u001b[0m     hp, ht, pid, tid \u001b[38;5;241m=\u001b[39m _winapi\u001b[38;5;241m.\u001b[39mCreateProcess(executable, args,\n\u001b[0;32m   1539\u001b[0m                              \u001b[38;5;66;03m# no special security\u001b[39;00m\n\u001b[0;32m   1540\u001b[0m                              \u001b[38;5;28;01mNone\u001b[39;00m, \u001b[38;5;28;01mNone\u001b[39;00m,\n\u001b[0;32m   1541\u001b[0m                              \u001b[38;5;28mint\u001b[39m(\u001b[38;5;129;01mnot\u001b[39;00m close_fds),\n\u001b[0;32m   1542\u001b[0m                              creationflags,\n\u001b[0;32m   1543\u001b[0m                              env,\n\u001b[0;32m   1544\u001b[0m                              cwd,\n\u001b[0;32m   1545\u001b[0m                              startupinfo)\n\u001b[0;32m   1546\u001b[0m \u001b[38;5;28;01mfinally\u001b[39;00m:\n\u001b[0;32m   1547\u001b[0m     \u001b[38;5;66;03m# Child is launched. Close the parent's copy of those pipe\u001b[39;00m\n\u001b[0;32m   1548\u001b[0m     \u001b[38;5;66;03m# handles that only the child should have open.  You need\u001b[39;00m\n\u001b[1;32m   (...)\u001b[0m\n\u001b[0;32m   1551\u001b[0m     \u001b[38;5;66;03m# pipe will not close when the child process exits and the\u001b[39;00m\n\u001b[0;32m   1552\u001b[0m     \u001b[38;5;66;03m# ReadFile will hang.\u001b[39;00m\n\u001b[0;32m   1553\u001b[0m     \u001b[38;5;28mself\u001b[39m\u001b[38;5;241m.\u001b[39m_close_pipe_fds(p2cread, p2cwrite,\n\u001b[0;32m   1554\u001b[0m                          c2pread, c2pwrite,\n\u001b[0;32m   1555\u001b[0m                          errread, errwrite)\n",
      "\u001b[1;31mFileNotFoundError\u001b[0m: [WinError 2] The system cannot find the file specified"
     ]
    }
   ],
   "source": [
    "import os\n",
    "import random\n",
    "from gtts import gTTS\n",
    "from pydub import AudioSegment\n",
    "import numpy as np\n",
    "import scipy.io.wavfile as wavfile\n",
    "\n",
    "# List of Free Fire character names and motivational Sahur messages\n",
    "FF_CHARACTERS = [\"Kelly\", \"Maxim\", \"Moco\", \"Andrew\", \"Chrono\"]\n",
    "SAHUR_MESSAGES = [\n",
    "    \"Rise and shine, it's Sahur time!\",\n",
    "    \"Grab your dates, don't be late!\",\n",
    "    \"Fuel up for fasting, you're a champ!\",\n",
    "    \"Sahur squad, let's do this!\",\n",
    "    \"Time to eat before the dawn!\"\n",
    "]\n",
    "\n",
    "def generate_drum_beat(duration_ms=1000, tempo=\"fast\"):\n",
    "    \"\"\"Generate a simple drum beat as a WAV file using numpy.\"\"\"\n",
    "    sample_rate = 44100  # Hz\n",
    "    t = np.linspace(0, duration_ms / 1000, int(sample_rate * duration_ms / 1000), False)\n",
    "    freq = 100 if tempo == \"fast\" else 80  # Lower frequency for slower beat\n",
    "    drum = 0.5 * np.sin(2 * np.pi * freq * t) * np.exp(-t * 5)\n",
    "    drum = (drum * 32767).astype(np.int16)  # Convert to 16-bit PCM\n",
    "    wavfile.write(\"sounds/drum_beat.wav\", sample_rate, drum)\n",
    "    return AudioSegment.from_wav(\"sounds/drum_beat.wav\")\n",
    "\n",
    "def create_sahur_alarm(character, message, beat_style=\"fast\"):\n",
    "    \"\"\"Create a Sahur alarm audio file with character voice, jingle, message, and drum beat.\"\"\"\n",
    "    # Create the \"Tung Tung Tung\" jingle\n",
    "    tung_repeats = random.randint(2, 4)  # Randomize repetitions\n",
    "    tung_chant = \"Tung Tung Tung, \" * tung_repeats\n",
    "    jingle = f\"The Tung Tung Sahur goes {tung_chant} The Tung Tung Sahur goes Tung Tung Tung, all through the town!\"\n",
    "    \n",
    "    # Combine character greeting, jingle, and message\n",
    "    script = f\"Yo, this is {character}! {jingle} {message}\"\n",
    "    \n",
    "    # Generate text-to-speech audio\n",
    "    tts = gTTS(text=script, lang='en')\n",
    "    tts.save(\"temp_tts.mp3\")\n",
    "    voice_audio = AudioSegment.from_mp3(\"temp_tts.mp3\")\n",
    "    \n",
    "    # Load or generate drum beat\n",
    "    drum_path = \"sounds/drum_beat.wav\"\n",
    "    if os.path.exists(drum_path):\n",
    "        drum_audio = AudioSegment.from_wav(drum_path)\n",
    "    else:\n",
    "        drum_audio = generate_drum_beat(tempo=beat_style)\n",
    "    \n",
    "    # Mix audio: overlay drum beat at the start and loop it softly in the background\n",
    "    final_audio = AudioSegment.silent(duration=len(voice_audio) + 1000)\n",
    "    final_audio = final_audio.overlay(drum_audio, position=0)\n",
    "    final_audio = final_audio.overlay(voice_audio, position=500)\n",
    "    \n",
    "    # Add a softer drum loop in the background\n",
    "    soft_drum = drum_audio - 10  # Reduce volume by 10dB\n",
    "    for i in range(1, int(len(voice_audio) / len(drum_audio))):\n",
    "        final_audio = final_audio.overlay(soft_drum, position=i * len(drum_audio))\n",
    "    \n",
    "    # Export the final alarm\n",
    "    output_file = \"tung_sahur_alarm.mp3\"\n",
    "    final_audio.export(output_file, format=\"mp3\")\n",
    "    print(f\"Alarm saved as {output_file}\")\n",
    "    \n",
    "    # Clean up temporary files\n",
    "    if os.path.exists(\"temp_tts.mp3\"):\n",
    "        os.remove(\"temp_tts.mp3\")\n",
    "    if os.path.exists(\"sounds/drum_beat.wav\"):\n",
    "        os.remove(\"sounds/drum_beat.wav\")\n",
    "\n",
    "def main():\n",
    "    print(\"Welcome to the Tung Tung Tung Sahur Alarm Generator!\")\n",
    "    print(\"Create a funny Sahur wake-up alarm with Free Fire vibes and a catchy jingle.\")\n",
    "    \n",
    "    # Get user inputs\n",
    "    character = input(f\"Choose a Free Fire character ({', '.join(FF_CHARACTERS)}): \").strip()\n",
    "    if character not in FF_CHARACTERS:\n",
    "        character = random.choice(FF_CHARACTERS)\n",
    "        print(f\"Invalid character, using {character} instead.\")\n",
    "    \n",
    "    message = input(\"Enter a motivational Sahur message (or press Enter for a random one): \").strip()\n",
    "    if not message:\n",
    "        message = random.choice(SAHUR_MESSAGES)\n",
    "    \n",
    "    beat_style = input(\"Choose beat style (fast/slow): \").strip().lower()\n",
    "    if beat_style not in [\"fast\", \"slow\"]:\n",
    "        beat_style = \"fast\"\n",
    "        print(\"Invalid beat style, using fast beat.\")\n",
    "    \n",
    "    # Create the alarm\n",
    "    os.makedirs(\"sounds\", exist_ok=True)\n",
    "    create_sahur_alarm(character, message, beat_style)\n",
    "    print(\"Upload this to GitHub and share the Sahur jingle with the world!\")\n",
    "\n",
    "if __name__ == \"__main__\":\n",
    "    main()"
   ]
  },
  {
   "cell_type": "code",
   "execution_count": null,
   "id": "966b9990-5e30-40fa-b384-5b5286919893",
   "metadata": {},
   "outputs": [],
   "source": []
  }
 ],
 "metadata": {
  "kernelspec": {
   "display_name": "Python 3 (ipykernel)",
   "language": "python",
   "name": "python3"
  },
  "language_info": {
   "codemirror_mode": {
    "name": "ipython",
    "version": 3
   },
   "file_extension": ".py",
   "mimetype": "text/x-python",
   "name": "python",
   "nbconvert_exporter": "python",
   "pygments_lexer": "ipython3",
   "version": "3.11.7"
  }
 },
 "nbformat": 4,
 "nbformat_minor": 5
}
